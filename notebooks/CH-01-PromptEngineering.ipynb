{
  "cells": [
    {
      "cell_type": "markdown",
      "metadata": {
        "nteract": {
          "transient": {
            "deleting": false
          }
        }
      },
      "source": [
        "# Reto 01: Prompt Engineering"
      ]
    },
    {
      "cell_type": "markdown",
      "metadata": {
        "nteract": {
          "transient": {
            "deleting": false
          }
        }
      },
      "source": [
        "Consejo rápido: Para ver la Tabla de Contenidos de este cuaderno en VS Code, en la pestaña \"Explorer\", expande la sección \"Outline\"."
      ]
    },
    {
      "cell_type": "markdown",
      "metadata": {
        "nteract": {
          "transient": {
            "deleting": false
          }
        }
      },
      "source": [
        "## 1. Experimentación de Parámetros\n",
        "Primero configuraremos el Desafío. Carga la clave API y las bibliotecas de Python relevantes utilizando las celdas a continuación."
      ]
    },
    {
      "cell_type": "markdown",
      "metadata": {
        "nteract": {
          "transient": {
            "deleting": false
          }
        }
      },
      "source": [
        "### 1.1 Preparación\n",
        "#### 1.1.1 Configuración del Entorno\n"
      ]
    },
    {
      "cell_type": "markdown",
      "metadata": {
        "nteract": {
          "transient": {
            "deleting": false
          }
        }
      },
      "source": [
        "#### Crea o actualiza el archivo de entorno llamado \".env\"\n",
        "\n",
        "Hemos incluido un archivo de entorno de muestra para tu referencia. Puedes encontrar el archivo sample-env.txt. Siéntete libre de hacer las modificaciones necesarias y renombra el archivo como .env.\n",
        "\n",
        "**NOTA:** Asegúrate de mantener el nombre de cada modelo igual al nombre de despliegue del modelo que configuraste en Azure OpenAI.\n",
        "\n",
        "**NOTA:**  Ten en cuenta que algunos modelos de AOAI están obsoletos. Deberías crear los que estén disponibles según sea necesario. Para completar este desafío, gpt-35-turbo es el único modelo que necesitas.\n",
        "\n",
        "Para obtener información sobre los modelos actuales, consulta:: [Azure OpenAI Service models](https://learn.microsoft.com/en-us/azure/ai-services/openai/concepts/models)"
      ]
    },
    {
      "cell_type": "markdown",
      "metadata": {
        "nteract": {
          "transient": {
            "deleting": false
          }
        }
      },
      "source": [
        "####  Configuración del Entorno de Azure OpenAI"
      ]
    },
    {
      "cell_type": "code",
      "execution_count": 1,
      "metadata": {
        "gather": {
          "logged": 1686932813309
        },
        "jupyter": {
          "outputs_hidden": false,
          "source_hidden": false
        },
        "nteract": {
          "transient": {
            "deleting": false
          }
        }
      },
      "outputs": [
        {
          "data": {
            "text/plain": [
              "True"
            ]
          },
          "execution_count": 1,
          "metadata": {},
          "output_type": "execute_result"
        }
      ],
      "source": [
        "import openai\n",
        "import os\n",
        "import json\n",
        "from dotenv import load_dotenv, find_dotenv\n",
        "load_dotenv(find_dotenv())"
      ]
    },
    {
      "cell_type": "code",
      "execution_count": 2,
      "metadata": {
        "gather": {
          "logged": 1686933122347
        },
        "jupyter": {
          "outputs_hidden": false,
          "source_hidden": false
        },
        "nteract": {
          "transient": {
            "deleting": false
          }
        }
      },
      "outputs": [],
      "source": [
        "API_KEY = os.getenv(\"OPENAI_API_KEY\")\n",
        "assert API_KEY, \"ERROR: Azure OpenAI Key is missing\"\n",
        "openai.api_key = API_KEY\n",
        "\n",
        "RESOURCE_ENDPOINT = os.getenv(\"OPENAI_API_BASE\",\"\").strip()\n",
        "assert RESOURCE_ENDPOINT, \"ERROR: Azure OpenAI Endpoint is missing\"\n",
        "assert \"openai.azure.com\" in RESOURCE_ENDPOINT.lower(), \"ERROR: Azure OpenAI Endpoint should be in the form: \\n\\n\\t<your unique endpoint identifier>.openai.azure.com\"\n",
        "\n",
        "openai.api_base = RESOURCE_ENDPOINT\n",
        "openai.api_type = os.getenv(\"OPENAI_API_TYPE\")\n",
        "openai.api_version = os.getenv(\"OPENAI_API_VERSION\")\n",
        "\n",
        "chat_model=os.getenv(\"CHAT_MODEL_NAME\")\n"
      ]
    },
    {
      "cell_type": "markdown",
      "metadata": {
        "nteract": {
          "transient": {
            "deleting": false
          }
        }
      },
      "source": [
        "#### 1.1.2 Explicación de Parámetros\n",
        "Especificamos los hiperparámetros para los modelos de Azure OpenAI dentro de las funciones de ayuda. Los usuarios pueden ajustar los parámetros según sus necesidades.\n",
        "\n",
        "###### **Temperatura**\n",
        "La temperatura varía de 0 a 2.\n",
        "Aquí tienes un desglose rápido de cómo funciona:\n",
        "- Temperatura baja (0 a 0.3): Salidas más enfocadas, coherentes y conservadoras.\n",
        "- Temperatura media (0.3 a 0.7): Creatividad y coherencia equilibradas.\n",
        "- Alta temperatura (> 0.7): Altamente creativa y diversa, pero potencialmente menos coherente.\n",
        "\n",
        "###### **Top_p**\n",
        "Establece el límite de masa de probabilidad para el muestreo de tokens, afectando la amplitud de opciones que considera la IA.\n",
        "Valores más altos conducen a más aleatoriedad, mientras que valores más bajos resultan en salidas más enfocadas.\n",
        "\n",
        "El parámetro \"top_p\" actúa como un filtro que controla cuántas palabras o frases diferentes considera el modelo de lenguaje cuando intenta predecir la siguiente palabra. Si configuras el valor de \"top p\" a 0.5, el modelo de lenguaje solo considerará las 50 palabras o frases más probables que podrían seguir. Pero si configuras el valor de \"top p\" a 0.9, el modelo de lenguaje considerará las 90 palabras o frases más probables.\n",
        "\n",
        "Dado que \"top_p\" y \"temperatura\" realizan trabajos similares como hiperparámetros, usualmente solo ajustamos uno de ellos en lugar de ambos.\n",
        "\n",
        "###### **Max_tokens**\n",
        "Max_tokens determina la longitud máxima del texto generado. Al establecer un límite, puedes controlar cuánto texto devolverá el modelo LLM, asegurando que no proporcione una respuesta demasiado larga.\n",
        "\n",
        "###### **Penalización de Frecuencia**\n",
        "La penalización de frecuencia asegura que el texto generado sea variado al dar una penalización a los tokens que ya se han utilizado en la respuesta.\n",
        "\n",
        "Varía de -2.0 a 2.0, con valores más altos resultando en una salida más diversa.\n",
        "\n",
        "Los valores positivos penalizan nuevos tokens basados en su frecuencia existente en el texto hasta el momento, disminuyendo la probabilidad del modelo de repetir la misma línea textualmente."
      ]
    },
    {
      "cell_type": "markdown",
      "metadata": {
        "nteract": {
          "transient": {
            "deleting": false
          }
        }
      },
      "source": [
        "#### 1.1.3 Función de Ayuda\n",
        "A lo largo de este desafío, utilizaremos el modelo `gpt-3.5-turbo` de OpenAI y el [punto final de completaciones de chat](https://platform.openai.com/docs/guides/chat).\n",
        "\n",
        "Esta función de ayuda facilitará el uso de prompts y la visualización de las salidas generadas.\n",
        "\n",
        "**get_chat_completion** ayuda a crear la respuesta de OpenAI utilizando el modelo de chat de tu elección.\n",
        "\n",
        "**get_completion_from_messages** ayuda a crear la respuesta de OpenAI utilizando el modelo de chat de tu elección, habilitando el historial de chat."
      ]
    },
    {
      "cell_type": "code",
      "execution_count": 3,
      "metadata": {
        "gather": {
          "logged": 1686938673045
        },
        "jupyter": {
          "outputs_hidden": false,
          "source_hidden": false
        },
        "nteract": {
          "transient": {
            "deleting": false
          }
        }
      },
      "outputs": [],
      "source": [
        "def get_chat_completion(prompt, model=chat_model):\n",
        "    messages = [{\"role\": \"user\", \"content\": prompt}]\n",
        "    response = openai.ChatCompletion.create(\n",
        "        engine=model,\n",
        "        messages=messages,\n",
        "        temperature=0, # this is the degree of randomness of the model's output\n",
        "        max_tokens = 200,\n",
        "        top_p = 1.0\n",
        "    )\n",
        "    return response.choices[0].message[\"content\"]"
      ]
    },
    {
      "cell_type": "code",
      "execution_count": 4,
      "metadata": {
        "gather": {
          "logged": 1686938550664
        },
        "jupyter": {
          "outputs_hidden": false,
          "source_hidden": false
        },
        "nteract": {
          "transient": {
            "deleting": false
          }
        }
      },
      "outputs": [],
      "source": [
        "def get_completion_from_messages(messages, model=chat_model, temperature=0):\n",
        "    response = openai.ChatCompletion.create(\n",
        "        engine=model,\n",
        "        messages=messages,\n",
        "        temperature=temperature # this is the degree of randomness of the model's output\n",
        "    )\n",
        "\n",
        "    return response.choices[0].message[\"content\"]\n",
        "\n"
      ]
    },
    {
      "cell_type": "markdown",
      "metadata": {
        "nteract": {
          "transient": {
            "deleting": false
          }
        }
      },
      "source": [
        "#### Prueba las funciones auxiliares"
      ]
    },
    {
      "cell_type": "code",
      "execution_count": 6,
      "metadata": {
        "gather": {
          "logged": 1686938676516
        },
        "jupyter": {
          "outputs_hidden": false,
          "source_hidden": false
        },
        "nteract": {
          "transient": {
            "deleting": false
          }
        }
      },
      "outputs": [
        {
          "name": "stdout",
          "output_type": "stream",
          "text": [
            "Claro, aquí tienes una broma de comida:\n",
            "\n",
            "¿Qué hace una abeja en el gimnasio?\n",
            "¡Zum-ba!\n"
          ]
        }
      ],
      "source": [
        "messages =  f\"\"\"\n",
        "Esa broma no fue de comida, dime una broma de comida.\n",
        "\"\"\"\n",
        "response = get_chat_completion(messages)\n",
        "print(response)"
      ]
    },
    {
      "cell_type": "code",
      "execution_count": 7,
      "metadata": {
        "gather": {
          "logged": 1686938564787
        },
        "jupyter": {
          "outputs_hidden": false,
          "source_hidden": false
        },
        "nteract": {
          "transient": {
            "deleting": false
          }
        }
      },
      "outputs": [
        {
          "name": "stdout",
          "output_type": "stream",
          "text": [
            "To get to the other side!\n"
          ]
        }
      ],
      "source": [
        "messages =  [      \n",
        "    {'role':'user', 'content':'tell me a joke'},   \n",
        "    {'role':'assistant', 'content':'Why did the chicken cross the road'},   \n",
        "    {'role':'user', 'content':'I don\\'t know'}\n",
        "]\n",
        "response = get_completion_from_messages(messages, temperature=1)\n",
        "print(response)"
      ]
    },
    {
      "cell_type": "markdown",
      "metadata": {
        "nteract": {
          "transient": {
            "deleting": false
          }
        }
      },
      "source": [
        "#### Tareas para Estudiantes (preguntas abiertas):\n",
        "1. Crea una función de completación para una temperatura más alta entre (0,1).\n",
        "2. Crea una función de completación para un valor máximo de tokens más bajo para obtener respuestas más cortas.\n",
        "3. Crea funciones de completación con 2 valores diferentes de penalización por diversidad entre (0,2).\n",
        "\n",
        "Prueba las funciones de completación que has creado en el caso anterior y compara los resultados obtenidos."
      ]
    },
    {
      "cell_type": "code",
      "execution_count": 9,
      "metadata": {
        "jupyter": {
          "outputs_hidden": false,
          "source_hidden": false
        },
        "nteract": {
          "transient": {
            "deleting": false
          }
        }
      },
      "outputs": [],
      "source": [
        "# función de completación para una temperatura más alta entre (0,1)\n",
        "\n",
        "def get_chat_completion(prompt, model=chat_model):\n",
        "    messages = [{\"role\": \"user\", \"content\": prompt}]\n",
        "    response = openai.ChatCompletion.create(\n",
        "        engine=model,\n",
        "        messages=messages,\n",
        "        temperature=0.7, \n",
        "        max_tokens = 300,\n",
        "        top_p = 1.0\n",
        "    )\n",
        "    return response.choices[0].message[\"content\"]"
      ]
    },
    {
      "cell_type": "code",
      "execution_count": 10,
      "metadata": {},
      "outputs": [
        {
          "name": "stdout",
          "output_type": "stream",
          "text": [
            "Personalmente, creo que el arte es una forma de expresión y comunicación muy poderosa. Puede ser visual, auditiva, escrita o de cualquier otra forma, y tiene la capacidad de transmitir emociones, contar historias e incluso provocar reflexiones profundas.\n",
            "\n",
            "En cuanto a la frase \"todo es arte\", creo que es una afirmación interesante. En cierto sentido, todo lo que hacemos y creamos puede considerarse como una forma de expresión artística, ya sea cocinar, decorar un espacio, vestirse o incluso escribir un correo electrónico. Sin embargo, creo que es importante distinguir entre el arte como una forma de expresión personal y el arte como una forma de comunicación más amplia y culturalmente significativa. No todo lo que hacemos puede ser considerado como arte en el sentido tradicional, pero eso no le quita valor o importancia a nuestras expresiones individuales.\n"
          ]
        }
      ],
      "source": [
        "messages =  f\"\"\"\n",
        "Dime que piensas del arte, y sobre la frase de que todo es arte\n",
        "\"\"\"\n",
        "response = get_chat_completion(messages)\n",
        "print(response)"
      ]
    },
    {
      "cell_type": "code",
      "execution_count": 11,
      "metadata": {
        "jupyter": {
          "outputs_hidden": false,
          "source_hidden": false
        },
        "nteract": {
          "transient": {
            "deleting": false
          }
        }
      },
      "outputs": [],
      "source": [
        "# función de completación para un valor máximo de tokens más bajo para obtener respuestas más cortas.\n",
        "\n",
        "def get_chat_completion(prompt, model=chat_model):\n",
        "    messages = [{\"role\": \"user\", \"content\": prompt}]\n",
        "    response = openai.ChatCompletion.create(\n",
        "        engine=model,\n",
        "        messages=messages,\n",
        "        temperature=0.7, \n",
        "        max_tokens = 50,\n",
        "        top_p = 1.0\n",
        "    )\n",
        "    return response.choices[0].message[\"content\"]"
      ]
    },
    {
      "cell_type": "code",
      "execution_count": 12,
      "metadata": {},
      "outputs": [
        {
          "name": "stdout",
          "output_type": "stream",
          "text": [
            "Como modelo de lenguaje de inteligencia artificial, no tengo opiniones personales. Sin embargo, puedo decirte que el arte es una expresión creativa y subjetiva que puede tomar muchas formas, como la pintura, la esc\n"
          ]
        }
      ],
      "source": [
        "messages =  f\"\"\"\n",
        "Dime que piensas del arte, y sobre la frase de que todo es arte\n",
        "\"\"\"\n",
        "response = get_chat_completion(messages)\n",
        "print(response)"
      ]
    },
    {
      "cell_type": "code",
      "execution_count": 29,
      "metadata": {
        "jupyter": {
          "outputs_hidden": false,
          "source_hidden": false
        },
        "nteract": {
          "transient": {
            "deleting": false
          }
        }
      },
      "outputs": [],
      "source": [
        "# funciones de completación con 2 valores diferentes de penalización por diversidad entre (0,2).\n",
        "\n",
        "def get_chat_completion1(prompt, model=chat_model):\n",
        "    messages = [{\"role\": \"user\", \"content\": prompt}]\n",
        "    response = openai.ChatCompletion.create(\n",
        "        engine=model,\n",
        "        messages=messages,\n",
        "        temperature=0.7, \n",
        "        max_tokens = 100,\n",
        "        top_p = 1.0,\n",
        "        frequency_penalty = 1.5\n",
        "    )\n",
        "    return response.choices[0].message[\"content\"]\n",
        "\n",
        "\n",
        "def get_chat_completion2(prompt, model=chat_model):\n",
        "    messages = [{\"role\": \"user\", \"content\": prompt}]\n",
        "    response = openai.ChatCompletion.create(\n",
        "        engine=model,\n",
        "        messages=messages,\n",
        "        temperature=0.7, \n",
        "        max_tokens = 400,\n",
        "        top_p = 1.0,\n",
        "        frequency_penalty = 0.5\n",
        "    )\n",
        "    return response.choices[0].message[\"content\"]\n"
      ]
    },
    {
      "cell_type": "code",
      "execution_count": 18,
      "metadata": {},
      "outputs": [
        {
          "name": "stdout",
          "output_type": "stream",
          "text": [
            "Como inteligencia artificial, no tengo emociones ni opiniones personales. Sin embargo, puedo decirte que el arte es una forma de expresión y comunicación que puede ser apreciada y disfrutada por diferentes personas de diferentes maneras. Algunos pueden considerar que todo es arte en algún sentido, ya sea a través del uso creativo de elementos cotidianos o la interpretación personal de cualquier experiencia. Sin embargo, también hay quienes tienen definiciones más específicas sobre qué constituye el arte. En última instancia, la percepción del arte es subjetiva y varía según los individuos.\n"
          ]
        }
      ],
      "source": [
        "messages =  f\"\"\"\n",
        "Dime que piensas del arte, y sobre la frase de que todo es arte\n",
        "\"\"\"\n",
        "response = get_chat_completion1(messages)\n",
        "print(response)"
      ]
    },
    {
      "cell_type": "code",
      "execution_count": 19,
      "metadata": {},
      "outputs": [
        {
          "name": "stdout",
          "output_type": "stream",
          "text": [
            "Personalmente, creo que el arte es una expresión única y creativa que nos permite comunicarnos y transmitir ideas, emociones y experiencias de una manera visual, auditiva o incluso táctil. El arte tiene la capacidad de evocar diferentes respuestas y interpretaciones en cada individuo, lo que hace que sea muy subjetivo y personal.\n",
            "\n",
            "Respecto a la frase \"todo es arte\", creo que puede haber diferentes perspectivas sobre ello. Algunas personas pueden sostener que cualquier cosa puede ser considerada arte si se le atribuye un significado o valor estético. Otros pueden argumentar que el arte requiere de ciertas habilidades técnicas o conceptuales para ser considerado como tal.\n",
            "\n",
            "En mi opinión, creo que hay una distinción entre las formas tradicionales de arte, como la pintura, la escultura o la música, y otras formas de expresión creativa que podrían no ser consideradas como arte en sentido estricto. Sin embargo, estoy abierto a explorar nuevas definiciones y perspectivas sobre el arte, ya que es un campo en constante evolución.\n"
          ]
        }
      ],
      "source": [
        "messages =  f\"\"\"\n",
        "Dime que piensas del arte, y sobre la frase de que todo es arte\n",
        "\"\"\"\n",
        "response = get_chat_completion2(messages)\n",
        "print(response)"
      ]
    },
    {
      "cell_type": "markdown",
      "metadata": {
        "nteract": {
          "transient": {
            "deleting": false
          }
        }
      },
      "source": [
        "### 1.2 Ingeniería de Mensajes del Sistema\n",
        "Los usuarios pueden lograr que los modelos respondan en el tono deseado ajustando el mensaje del sistema."
      ]
    },
    {
      "cell_type": "markdown",
      "metadata": {
        "nteract": {
          "transient": {
            "deleting": false
          }
        }
      },
      "source": [
        "#### 1.2.1 Cambio de tono"
      ]
    },
    {
      "cell_type": "code",
      "execution_count": 20,
      "metadata": {
        "gather": {
          "logged": 1685476487849
        },
        "jupyter": {
          "outputs_hidden": false,
          "source_hidden": false
        },
        "nteract": {
          "transient": {
            "deleting": false
          }
        }
      },
      "outputs": [
        {
          "name": "stdout",
          "output_type": "stream",
          "text": [
            "Sure, here's a classic one for you:\n",
            "\n",
            "Why don't scientists trust atoms?\n",
            "\n",
            "Because they make up everything!\n"
          ]
        }
      ],
      "source": [
        "messages =  [      \n",
        "    {'role':'assistant', 'content':'How can I help you?'},\n",
        "    {'role':'user', 'content':'tell me a joke'}\n",
        "]\n",
        "response = get_completion_from_messages(messages, temperature=1)\n",
        "print(response)"
      ]
    },
    {
      "cell_type": "code",
      "execution_count": 21,
      "metadata": {
        "gather": {
          "logged": 1685059077359
        },
        "jupyter": {
          "outputs_hidden": false,
          "source_hidden": false
        },
        "nteract": {
          "transient": {
            "deleting": false
          }
        }
      },
      "outputs": [
        {
          "name": "stdout",
          "output_type": "stream",
          "text": [
            "Why did the chicken cross the road?\n",
            "\n",
            "To get to the other side, fair sir, but verily, the other side did beckon with promises of bountiful grains and delectable worms. Alas, it found not what it sought, for a cunning fox lay in wait!\n"
          ]
        }
      ],
      "source": [
        "messages =  [  \n",
        "    {'role':'system', 'content':'You are an assistant that speaks like Shakespeare.'},    \n",
        "    {'role':'assistant', 'content':'How can I help you?'},\n",
        "    {'role':'user', 'content':'tell me a joke'}\n",
        "]\n",
        "response = get_completion_from_messages(messages, temperature=1)\n",
        "print(response)"
      ]
    },
    {
      "cell_type": "markdown",
      "metadata": {
        "nteract": {
          "transient": {
            "deleting": false
          }
        }
      },
      "source": [
        "#### Tarea para Estudiantes (pregunta abierta):\n",
        "Haz que el asistente cuente un chiste con el tono de tu personaje favorito editando el mensaje del sistema."
      ]
    },
    {
      "cell_type": "code",
      "execution_count": 24,
      "metadata": {
        "gather": {
          "logged": 1686939630607
        },
        "jupyter": {
          "outputs_hidden": false,
          "source_hidden": false
        },
        "nteract": {
          "transient": {
            "deleting": false
          }
        }
      },
      "outputs": [
        {
          "name": "stdout",
          "output_type": "stream",
          "text": [
            "¡Hola! Soy Edward Elric, el Alquimista de Acero. Aunque pueda parecer joven, mi cuerpo ha pasado por muchas transformaciones debido a la alquimia. Después de un accidente trágico, perdí mi brazo y mi pierna izquierda, pero los reemplacé con prótesis mecánicas llamadas Automail. Estas prótesis me permiten realizar alquimia y luchar contra los enemigos. Aunque pueda parecer pequeño, no subestimes mi determinación y habilidades. ¡La altura no define mi fuerza!\n"
          ]
        }
      ],
      "source": [
        "# Haz que el asistente cuente un chiste con el tono de tu personaje favorito editando el mensaje del sistema.\n",
        "\n",
        "messages =  [  \n",
        "    {'role':'system', 'content':'Eres edward elric de la serie fullmetal alchemist, y vas a hablar como el'},    \n",
        "    {'role':'user', 'content':'No eres muy pequello para tener un brazo mecanico?'}\n",
        "]\n",
        "response = get_completion_from_messages(messages, temperature=0.3)\n",
        "print(response)"
      ]
    },
    {
      "cell_type": "markdown",
      "metadata": {
        "nteract": {
          "transient": {
            "deleting": false
          }
        }
      },
      "source": [
        "#### 1.2.2 Recordar el Nombre de la Empresa"
      ]
    },
    {
      "cell_type": "code",
      "execution_count": 23,
      "metadata": {
        "gather": {
          "logged": 1685059130793
        },
        "jupyter": {
          "outputs_hidden": false,
          "source_hidden": false
        },
        "nteract": {
          "transient": {
            "deleting": false
          }
        }
      },
      "outputs": [
        {
          "name": "stdout",
          "output_type": "stream",
          "text": [
            "I'm sorry, but as a chatbot, I don't have access to personal information about individuals unless it has been shared with me in the course of our conversation. I am designed to respect user privacy and confidentiality. My primary function is to provide information and answer questions to the best of my knowledge and abilities. If you have any concerns about privacy or data security, please let me know, and I will do my best to address them.\n"
          ]
        }
      ],
      "source": [
        "messages =  [  \n",
        "{'role':'system', 'content':'You are friendly chatbot.'},  \n",
        "{'role':'user', 'content':'Hi, my name is Mel.'},\n",
        "{'role':'assistant', 'content': \"Hi! It's nice to meet you. \\\n",
        "Is there anything I can help you with today?\"},  \n",
        "{'role':'user', 'content':'Yes, can you remind me which company I work for?'}  ]\n",
        "response = get_completion_from_messages(messages, temperature=1)\n",
        "print(response)"
      ]
    },
    {
      "cell_type": "markdown",
      "metadata": {
        "nteract": {
          "transient": {
            "deleting": false
          }
        }
      },
      "source": [
        "#### Tarea para Estudiantes:\n",
        "Haz que el asistente ofrezca un recordatorio confiable del nombre de la empresa proporcionando contexto en el mensaje del sistema."
      ]
    },
    {
      "cell_type": "code",
      "execution_count": 25,
      "metadata": {
        "gather": {
          "logged": 1686939642577
        },
        "jupyter": {
          "outputs_hidden": false,
          "source_hidden": false
        },
        "nteract": {
          "transient": {
            "deleting": false
          }
        }
      },
      "outputs": [
        {
          "name": "stdout",
          "output_type": "stream",
          "text": [
            "La compañía se llama Claro. Es una empresa de telecomunicaciones que ofrece servicios de telefonía móvil, internet y televisión en varios países de América Latina. ¿En qué puedo ayudarte con respecto a Claro?\n"
          ]
        }
      ],
      "source": [
        "# Haz que el asistente ofrezca un recordatorio confiable del nombre de la empresa proporcionando contexto en el mensaje del sistema.\n",
        "\n",
        "messages =  [  \n",
        "{'role':'system', 'content':'Eres un chatbot amigable usado en la empresa Claro'},  \n",
        "{'role':'user', 'content':'Hola mi nombre es Felipe'},\n",
        "{'role':'assistant', 'content': \"Hola, encantado \\\n",
        "¿hay algo en lo que te pueda ayudar?\"},  \n",
        "{'role':'user', 'content':'Si, como es el nombre de la compañia?'}  ]\n",
        "response = get_completion_from_messages(messages, temperature=0.5)\n",
        "print(response)"
      ]
    },
    {
      "cell_type": "markdown",
      "metadata": {
        "nteract": {
          "transient": {
            "deleting": false
          }
        }
      },
      "source": [
        "## 2. Principios de Prompting Iterativo\n",
        "Es una buena práctica realizar un prompting iterativo para que el modelo pueda generar la respuesta más adecuada según las especificaciones del usuario.\n",
        "- **Principio 1: Escribe instrucciones claras y específicas**\n",
        "- **Principio 2: Dale tiempo al modelo para \"pensar\"**"
      ]
    },
    {
      "cell_type": "markdown",
      "metadata": {
        "nteract": {
          "transient": {
            "deleting": false
          }
        }
      },
      "source": [
        "### 2.1 Escribe instrucciones claras y específicas."
      ]
    },
    {
      "cell_type": "markdown",
      "metadata": {
        "nteract": {
          "transient": {
            "deleting": false
          }
        }
      },
      "source": [
        "#### Táctica 1: Delimitadores"
      ]
    },
    {
      "cell_type": "markdown",
      "metadata": {
        "nteract": {
          "transient": {
            "deleting": false
          }
        }
      },
      "source": [
        "#### Tarea para Estudiantes:\n",
        "Usa delimitadores para indicar claramente las partes distintas de la entrada.\n",
        "\n",
        "Los delimitadores pueden ser cualquier cosa como: ````, \"\"\", < >, `<tag> </tag>`, `:`"
      ]
    },
    {
      "cell_type": "code",
      "execution_count": 27,
      "metadata": {
        "gather": {
          "logged": 1685081594233
        },
        "jupyter": {
          "outputs_hidden": false,
          "source_hidden": false
        },
        "nteract": {
          "transient": {
            "deleting": false
          }
        }
      },
      "outputs": [],
      "source": [
        "text = f\"\"\"\n",
        "    The 2020 Summer Olympics, officially the Games of the XXXII Olympiad and also known as Tokyo 2020, was an international multi-sport event held from 23 July to 8 August 2021 in Tokyo, Japan, with some preliminary events that began on 21 July 2021. Tokyo was selected as the host city during the 125th IOC Session in Buenos Aires, Argentina, on 7 September 2013.Originally scheduled to take place from 24 July to 9 August 2020, the event was postponed to 2021 on 24 March 2020 due to the global COVID-19 pandemic, the first such instance in the history of the Olympic Games (previous games had been cancelled but not rescheduled). However, the event retained the Tokyo 2020 branding for marketing purposes. It was largely held behind closed doors with no public spectators permitted due to the declaration of a state of emergency in the Greater Tokyo Area in response to the pandemic, the first and only Olympic Games to be held without official spectators. The Games were the most expensive ever, with total spending of over $20 billion.The Games were the fourth Olympic Games to be held in Japan, following the 1964 Summer Olympics (Tokyo), 1972 Winter Olympics (Sapporo), and 1998 Winter Olympics (Nagano). Tokyo became the first city in Asia to hold the Summer Olympic Games twice. The 2020 Games were the second of three consecutive Olympics to be held in East Asia, following the 2018 Winter Olympics in Pyeongchang, South Korea and preceding the 2022 Winter Olympics in Beijing, China. Due to the one-year postponement, Tokyo 2020 was the first and only Olympic Games to have been held in an odd-numbered year and the first Summer Olympics since 1900 to be held in a non-leap year.\\nNew events were introduced in existing sports, including 3x3 basketball, freestyle BMX and mixed gender team events in a number of existing sports, as well as the return of madison cycling for men and an introduction of the same event for women. New IOC policies also allowed the host organizing committee to add new sports to the Olympic program for just one Games. The disciplines added by the Japanese Olympic Committee were baseball and softball, karate, sport climbing, surfing and skateboarding, the last four of which made their Olympic debuts, and the last three of which will remain on the Olympic program.The United States topped the medal count by both total golds (39) and total medals (113), with China finishing second by both respects (38 and 89). Host nation Japan finished third, setting a record for the most gold medals and total medals ever won by their delegation at an Olympic Games with 27 and 58. Great Britain finished fourth, with a total of 22 gold and 64 medals. The Russian delegation competing as the ROC finished fifth with 20 gold medals and third in the overall medal count, with 71 medals. Bermuda, the Philippines and Qatar won their first-ever Olympic gold medals. Burkina Faso, San Marino and Turkmenistan also won their first-ever Olympic medals.'\n",
        "\"\"\""
      ]
    },
    {
      "cell_type": "code",
      "execution_count": 30,
      "metadata": {
        "jupyter": {
          "outputs_hidden": false,
          "source_hidden": false
        },
        "nteract": {
          "transient": {
            "deleting": false
          }
        }
      },
      "outputs": [
        {
          "name": "stdout",
          "output_type": "stream",
          "text": [
            "Los Juegos Olímpicos de Verano 2020, oficialmente conocidos como los Juegos de la XXXII Olimpiada y también como Tokio 2020, se llevaron a cabo del 23 de julio al 8 de agosto de 2021 en Tokio, Japón. Fue un evento deportivo internacional que originalmente estaba programado para el año anterior pero fue pospuesto debido a la pandemia mundial por COVID-19.\n"
          ]
        }
      ],
      "source": [
        "# Usa delimitadores para indicar claramente las partes distintas de la entrada y pide al modelo que resuma el texto.\n",
        "\n",
        "messages =  f\"\"\"\n",
        "Resume el siguiente texto: <{text}>\n",
        "\"\"\"\n",
        "response = get_chat_completion1(messages)\n",
        "print(response)"
      ]
    },
    {
      "cell_type": "markdown",
      "metadata": {
        "nteract": {
          "transient": {
            "deleting": false
          }
        }
      },
      "source": [
        "#### Táctica 2: Resumen: especificar el número de palabras, extraer información"
      ]
    },
    {
      "cell_type": "markdown",
      "metadata": {
        "nteract": {
          "transient": {
            "deleting": false
          }
        }
      },
      "source": [
        "#### Texto para resumir"
      ]
    },
    {
      "cell_type": "code",
      "execution_count": 31,
      "metadata": {
        "gather": {
          "logged": 1685059771050
        },
        "jupyter": {
          "outputs_hidden": false,
          "source_hidden": false
        },
        "nteract": {
          "transient": {
            "deleting": false
          }
        }
      },
      "outputs": [],
      "source": [
        "game_review = \"\"\"\n",
        "The 2020 Summer Olympics, officially the Games of the XXXII Olympiad and also known as Tokyo 2020, \\\n",
        "was an international multi-sport event held from 23 July to 8 August 2021 in Tokyo, Japan, \\\n",
        "with some preliminary events that began on 21 July 2021. Tokyo was selected as the host city during the 125th IOC Session in Buenos Aires, Argentina, \\\n",
        "on 7 September 2013.Originally scheduled to take place from 24 July to 9 August 2020, the event was postponed to 2021 on 24 March 2020 due to the global COVID-19 pandemic, \\\n",
        "the first such instance in the history of the Olympic Games (previous games had been cancelled but not rescheduled). \\\n",
        "However, the event retained the Tokyo 2020 branding for marketing purposes. \\\n",
        "It was largely held behind closed doors with no public spectators permitted due to the declaration of a state of emergency in the Greater Tokyo Area in response to the pandemic, the first and only Olympic Games to be held without official spectators. \\\n",
        "The Games were the most expensive ever, with total spending of over $20 billion. \\\n",
        "The Games were the fourth Olympic Games to be held in Japan, following the 1964 Summer Olympics (Tokyo), 1972 Winter Olympics (Sapporo), \\\n",
        "and 1998 Winter Olympics (Nagano). Tokyo became the first city in Asia to hold the Summer Olympic Games twice. \\\n",
        "The 2020 Games were the second of three consecutive Olympics to be held in East Asia, following the 2018 Winter Olympics in Pyeongchang, \\\n",
        "South Korea and preceding the 2022 Winter Olympics in Beijing, China. \\\n",
        "Due to the one-year postponement, Tokyo 2020 was the first and only Olympic Games to have been held in an odd-numbered year and the first Summer Olympics since 1900 to be held in a non-leap year.\n",
        "New events were introduced in existing sports, including 3x3 basketball, \\\n",
        "freestyle BMX and mixed gender team events in a number of existing sports, as well as the return of madison cycling for men and an introduction of the same event for women. \\\n",
        "New IOC policies also allowed the host organizing committee to add new sports to the Olympic program for just one Games. \\\n",
        "The disciplines added by the Japanese Olympic Committee were baseball and softball, karate, \\\n",
        "sport climbing, surfing and skateboarding, the last four of which made their Olympic debuts, and the last three of which will remain on the Olympic program. \\\n",
        "The United States topped the medal count by both total golds (39) and total medals (113), with China finishing second by both respects (38 and 89). \\\n",
        "Host nation Japan finished third, setting a record for the most gold medals and total medals ever won by their delegation at an Olympic Games with 27 and 58. \\\n",
        "Great Britain finished fourth, with a total of 22 gold and 64 medals. \\\n",
        "The Russian delegation competing as the ROC finished fifth with 20 gold medals and third in the overall medal count, with 71 medals. \\\n",
        "Bermuda, the Philippines and Qatar won their first-ever Olympic gold medals. Burkina Faso, San Marino and Turkmenistan also won their first-ever Olympic medals.\n",
        "\"\"\""
      ]
    },
    {
      "cell_type": "markdown",
      "metadata": {
        "nteract": {
          "transient": {
            "deleting": false
          }
        }
      },
      "source": [
        "#### Tarea para Estudiantes:\n",
        "Resume, centrándote en los aspectos especiales de los Juegos Olímpicos de Verano 2020 y con un límite de palabras."
      ]
    },
    {
      "cell_type": "code",
      "execution_count": 41,
      "metadata": {
        "jupyter": {
          "outputs_hidden": false,
          "source_hidden": false
        },
        "nteract": {
          "transient": {
            "deleting": false
          }
        }
      },
      "outputs": [
        {
          "name": "stdout",
          "output_type": "stream",
          "text": [
            "Los Juegos Olímpicos de Verano 2020, también conocidos como Tokyo 2020, se llevaron a cabo del 23 de julio al 8 de agosto de 2021 en Tokio, Japón. Fueron los primeros Juegos Olímpicos en ser pospuestos debido a la pandemia de COVID-19. El evento se realizó sin espectadores debido al estado de emergencia declarado en la región de Tokio. Los Juegos fueron los más caros de la historia, con un gasto total de más de $20 mil millones. Se introdujeron nuevos eventos en deportes existentes y se agregaron nuevos deportes al programa olímpico, incluyendo béisbol y sóftbol, karate, escalada deportiva, surf y skateboard. Estados Unidos encabezó el medallero, seguido de China y Japón. Varios países ganaron su primera medalla olímpica en estos juegos.\n"
          ]
        }
      ],
      "source": [
        "# Resume, centrándote en los aspectos especiales de los Juegos Olímpicos de Verano 2020 y con un límite de palabras.\n",
        "\n",
        "def get_chat_completion(prompt, model=chat_model):\n",
        "    messages = [{\"role\": \"user\", \"content\": prompt}]\n",
        "    response = openai.ChatCompletion.create(\n",
        "        engine=model,\n",
        "        messages=messages,\n",
        "        temperature=0.2, \n",
        "        max_tokens = 300,\n",
        "        top_p = 1.0\n",
        "    )\n",
        "    return response.choices[0].message[\"content\"]\n",
        "\n",
        "messages =  f\"\"\"\n",
        "Resume de manera muy corta centrándote en los aspectos especiales de los Juegos Olímpicos de Verano 2020 el siguiente texto: <{game_review}>\n",
        "\"\"\"\n",
        "response = get_chat_completion(messages)\n",
        "print(response)"
      ]
    },
    {
      "cell_type": "markdown",
      "metadata": {
        "nteract": {
          "transient": {
            "deleting": false
          }
        }
      },
      "source": [
        "#### Tarea para Estudiantes:\n",
        "Intenta \"extract en lugar de \"summarize\""
      ]
    },
    {
      "cell_type": "code",
      "execution_count": 42,
      "metadata": {
        "jupyter": {
          "outputs_hidden": false,
          "source_hidden": false
        },
        "nteract": {
          "transient": {
            "deleting": false
          }
        }
      },
      "outputs": [
        {
          "name": "stdout",
          "output_type": "stream",
          "text": [
            "Los Juegos Olímpicos de Verano 2020, también conocidos como Tokyo 2020, se llevaron a cabo del 23 de julio al 8 de agosto de 2021 en Tokio, Japón. Fueron los primeros Juegos Olímpicos en la historia en ser pospuestos debido a la pandemia de COVID-19. El evento se llevó a cabo sin espectadores debido al estado de emergencia declarado en la zona de Tokio. Fue la edición más cara de los Juegos Olímpicos, con un gasto total de más de $20 mil millones. Se introdujeron nuevos eventos en deportes existentes y se añadieron nuevos deportes al programa olímpico, como el béisbol y el softbol, el karate, la escalada deportiva, el surf y el skateboard. Estados Unidos encabezó el medallero, seguido de China y Japón, que estableció un récord de medallas de oro y medallas totales para su delegación. Varios países ganaron su primera medalla olímpica en estos juegos.\n"
          ]
        }
      ],
      "source": [
        "# Intenta \"extract en lugar de \"summarize\"\n",
        "\n",
        "def get_chat_completion(prompt, model=chat_model):\n",
        "    messages = [{\"role\": \"user\", \"content\": prompt}]\n",
        "    response = openai.ChatCompletion.create(\n",
        "        engine=model,\n",
        "        messages=messages,\n",
        "        temperature=0.2, \n",
        "        max_tokens = 300,\n",
        "        top_p = 1.0\n",
        "    )\n",
        "    return response.choices[0].message[\"content\"]\n",
        "\n",
        "messages =  f\"\"\"\n",
        "Extrae de manera muy corta centrándote en los aspectos especiales de los Juegos Olímpicos de Verano 2020 el siguiente texto: <{game_review}>\n",
        "\"\"\"\n",
        "response = get_chat_completion(messages)\n",
        "print(response)"
      ]
    },
    {
      "cell_type": "markdown",
      "metadata": {
        "nteract": {
          "transient": {
            "deleting": false
          }
        }
      },
      "source": [
        "#### Táctica 3: Inferencia: solicitar emociones, sentimientos o temas"
      ]
    },
    {
      "cell_type": "markdown",
      "metadata": {
        "nteract": {
          "transient": {
            "deleting": false
          }
        }
      },
      "source": [
        "#### Tarea para Estudiantes:\n",
        "Identifica los tipos de emociones y el sentimiento (positivo/negativo) de la siguiente reseña.\n",
        "\n",
        "Usa un objeto JSON."
      ]
    },
    {
      "cell_type": "code",
      "execution_count": 43,
      "metadata": {
        "jupyter": {
          "outputs_hidden": false,
          "source_hidden": false
        },
        "nteract": {
          "transient": {
            "deleting": false
          }
        }
      },
      "outputs": [],
      "source": [
        "review = \"\"\"\n",
        "Philip Barker of Inside the Games opined that for many athletes and supporters, \\\n",
        "the tone of the ceremony was dignified and appropriate. Hashimoto stated in a press interview that the flame would \"quietly go out\", \\\n",
        "which he felt that \"It was an apt description of a dignified and low key Ceremony which conveyed a sense of gratitude that the Games had been able to take place at all.\"\\\n",
        "Dominic Patten of Deadline Hollywood argued that the ceremony was an \"uneven mixtape\" of contrasts, \\\n",
        "comparing the low-key \"celebration of the culture of the Asian power and brow moping acknowledgement of the pandemic\" to the jubilant Paris segment, \\\n",
        "as well as clichÃ©-filled speech of Thomas Bach. Alan Tyres of The Daily Telegraph discussed the IOC updated motto as a sign of things to come. \\\n",
        "He stated, \"The updated Olympic motto of 'faster, higher, \\\n",
        "stronger â€“ together' fits with how sport is covered and contextualised at this moment in history: \\\n",
        "inclusion, diversity, justice and a duty of care to the athletes must be taken into consideration as much as performance.\" \\\n",
        "He also discussed the strangeness of the ceremony, as it was performed without a stadium audience.\n",
        "\"\"\""
      ]
    },
    {
      "cell_type": "code",
      "execution_count": 46,
      "metadata": {
        "jupyter": {
          "outputs_hidden": false,
          "source_hidden": false
        },
        "nteract": {
          "transient": {
            "deleting": false
          }
        }
      },
      "outputs": [
        {
          "name": "stdout",
          "output_type": "stream",
          "text": [
            "El texto tiene una connotación positiva.\n"
          ]
        }
      ],
      "source": [
        "# Identifica los tipos de emociones y el sentimiento (positivo/negativo) de la siguiente reseña. Usa un objeto JSON.\n",
        "\n",
        "messages =  f\"\"\"\n",
        "Infiere si el  siguiente texto tiene una connotacion positiva o negativa, solo una: <{review}>\n",
        "\"\"\"\n",
        "response = get_chat_completion(messages)\n",
        "print(response)"
      ]
    },
    {
      "cell_type": "markdown",
      "metadata": {
        "nteract": {
          "transient": {
            "deleting": false
          }
        }
      },
      "source": [
        "#### Desafío para Estudiantes:\n",
        "Infiere 3 temas de la historia a continuación."
      ]
    },
    {
      "cell_type": "code",
      "execution_count": 48,
      "metadata": {
        "jupyter": {
          "outputs_hidden": false,
          "source_hidden": false
        },
        "nteract": {
          "transient": {
            "deleting": false
          }
        }
      },
      "outputs": [],
      "source": [
        "story = \"\"\"\n",
        "The 2020 Summer Olympics, officially the Games of the XXXII Olympiad and also known as Tokyo 2020, \\\n",
        "was an international multi-sport event held from 23 July to 8 August 2021 in Tokyo, Japan, \\\n",
        "with some preliminary events that began on 21 July 2021. Tokyo was selected as the host city during the 125th IOC Session in Buenos Aires, Argentina, \\\n",
        "on 7 September 2013.Originally scheduled to take place from 24 July to 9 August 2020, the event was postponed to 2021 on 24 March 2020 due to the global COVID-19 pandemic, \\\n",
        "the first such instance in the history of the Olympic Games (previous games had been cancelled but not rescheduled). \\\n",
        "However, the event retained the Tokyo 2020 branding for marketing purposes. \\\n",
        "It was largely held behind closed doors with no public spectators permitted due to the declaration of a state of emergency in the Greater Tokyo Area in response to the pandemic, the first and only Olympic Games to be held without official spectators. \\\n",
        "The Games were the most expensive ever, with total spending of over $20 billion. \\\n",
        "The Games were the fourth Olympic Games to be held in Japan, following the 1964 Summer Olympics (Tokyo), 1972 Winter Olympics (Sapporo), \\\n",
        "and 1998 Winter Olympics (Nagano). Tokyo became the first city in Asia to hold the Summer Olympic Games twice. \\\n",
        "The 2020 Games were the second of three consecutive Olympics to be held in East Asia, following the 2018 Winter Olympics in Pyeongchang, \\\n",
        "South Korea and preceding the 2022 Winter Olympics in Beijing, China. \\\n",
        "Due to the one-year postponement, Tokyo 2020 was the first and only Olympic Games to have been held in an odd-numbered year and the first Summer Olympics since 1900 to be held in a non-leap year.\n",
        "New events were introduced in existing sports, including 3x3 basketball, \\\n",
        "freestyle BMX and mixed gender team events in a number of existing sports, as well as the return of madison cycling for men and an introduction of the same event for women. \\\n",
        "New IOC policies also allowed the host organizing committee to add new sports to the Olympic program for just one Games. \\\n",
        "The disciplines added by the Japanese Olympic Committee were baseball and softball, karate, \\\n",
        "sport climbing, surfing and skateboarding, the last four of which made their Olympic debuts, and the last three of which will remain on the Olympic program. \\\n",
        "The United States topped the medal count by both total golds (39) and total medals (113), with China finishing second by both respects (38 and 89). \\\n",
        "Host nation Japan finished third, setting a record for the most gold medals and total medals ever won by their delegation at an Olympic Games with 27 and 58. \\\n",
        "Great Britain finished fourth, with a total of 22 gold and 64 medals. \\\n",
        "The Russian delegation competing as the ROC finished fifth with 20 gold medals and third in the overall medal count, with 71 medals. \\\n",
        "Bermuda, the Philippines and Qatar won their first-ever Olympic gold medals. Burkina Faso, San Marino and Turkmenistan also won their first-ever Olympic medals.\n",
        "\"\"\""
      ]
    },
    {
      "cell_type": "code",
      "execution_count": 49,
      "metadata": {
        "jupyter": {
          "outputs_hidden": false,
          "source_hidden": false
        },
        "nteract": {
          "transient": {
            "deleting": false
          }
        }
      },
      "outputs": [
        {
          "name": "stdout",
          "output_type": "stream",
          "text": [
            "1. The postponement and impact of the COVID-19 pandemic on the 2020 Summer Olympics.\n",
            "2. The introduction of new events and sports to the Olympic program.\n",
            "3. The performance and achievements of different countries and athletes in the Games.\n"
          ]
        }
      ],
      "source": [
        "# Infiere 3 temas de la historia a continuación.\n",
        "\n",
        "messages =  f\"\"\"\n",
        "Extrae los tres temas principales de la siguiente historia: <{story}>\n",
        "\"\"\"\n",
        "response = get_chat_completion(messages)\n",
        "print(response)"
      ]
    },
    {
      "cell_type": "markdown",
      "metadata": {
        "nteract": {
          "transient": {
            "deleting": false
          }
        }
      },
      "source": [
        "#### Táctica 4: Transformación: especifica el idioma objetivo y el estilo de escritura, y solicita una revisión gramatical."
      ]
    },
    {
      "cell_type": "markdown",
      "metadata": {
        "nteract": {
          "transient": {
            "deleting": false
          }
        }
      },
      "source": [
        "#### Tarea para Estudiantes:\n",
        "Traductor Universal\n",
        "\n",
        "Personas de todo el mundo desean conocer las noticias de los Juegos Olímpicos en su idioma nativo. En este caso, las noticias deben ser traducidas a diferentes idiomas. Traduce cada elemento de noticias a continuación tanto al coreano como al inglés."
      ]
    },
    {
      "cell_type": "code",
      "execution_count": 51,
      "metadata": {
        "jupyter": {
          "outputs_hidden": false,
          "source_hidden": false
        },
        "nteract": {
          "transient": {
            "deleting": false
          }
        }
      },
      "outputs": [],
      "source": [
        "news = [\n",
        "\"Palestine received a universality invitation from FINA to send two top-ranked swimmers (one per gender) in their respective individual events to the Olympics, \\\n",
        "based on the FINA Points System of June 28, 2021.\",\n",
        "\"比赛包括两轮：预赛和决赛。预赛成绩最好的8次接力队晋级决赛。必要时使用游泳比赛来打破平局以晋级下一轮。\"]"
      ]
    },
    {
      "cell_type": "code",
      "execution_count": 52,
      "metadata": {
        "jupyter": {
          "outputs_hidden": false,
          "source_hidden": false
        },
        "nteract": {
          "transient": {
            "deleting": false
          }
        }
      },
      "outputs": [
        {
          "name": "stdout",
          "output_type": "stream",
          "text": [
            "Palestine received a universal invitation from FINA to send two top-ranked swimmers (one per gender) in their respective individual events to the Olympics, based on the FINA Points System of June 28, 2021.\n",
            "팔레스타인은 2021년 6월 28일 기준으로 FINA 포인트 시스템에 따라 올림픽에 각각의 개인 종목에서 상위 랭킹 2명 (성별당 1명)의 수영 선수를 파견하는 것에 대한 FINA로부터의 보편적 초청을 받았습니다.\n",
            "The competition consists of two rounds: preliminaries and finals. The top 8 relay teams with the best scores in the preliminaries advance to the finals. If necessary, swimming competitions are used to break ties and advance to the next round.\n",
            "경기는 예선과 결승 두 라운드로 구성됩니다. 예선에서 가장 좋은 8개의 리레이 팀이 결승에 진출합니다. 필요한 경우 수영 경기를 사용하여 동점을 깨고 다음 라운드에 진출합니다.\n"
          ]
        }
      ],
      "source": [
        "# Escribe código aquí para la tarea .\n",
        "\n",
        "\n",
        "for i in news:\n",
        "    messages =  f\"\"\"\n",
        "    Traduce el texto a ingles: <{i}>\n",
        "    \"\"\"\n",
        "    response = get_chat_completion(messages)\n",
        "    print(response)\n",
        "\n",
        "    messages =  f\"\"\"\n",
        "    Traduce el texto a coreano: <{i}>\n",
        "    \"\"\"\n",
        "    response = get_chat_completion(messages)\n",
        "    print(response)"
      ]
    },
    {
      "cell_type": "markdown",
      "metadata": {
        "nteract": {
          "transient": {
            "deleting": false
          }
        }
      },
      "source": [
        "#### Tarea para Estudiantes:\n",
        "Transformación de Tono\n",
        "\n",
        "La escritura puede variar según la audiencia objetivo. ChatGPT puede producir diferentes tonos. Transforma el siguiente mensaje en una carta de negocios."
      ]
    },
    {
      "cell_type": "code",
      "execution_count": 54,
      "metadata": {
        "gather": {
          "logged": 1685082786641
        },
        "jupyter": {
          "outputs_hidden": false,
          "source_hidden": false
        },
        "nteract": {
          "transient": {
            "deleting": false
          }
        }
      },
      "outputs": [],
      "source": [
        "original_message = \"David, it's John! OMG, the Olympic game is so crazy\""
      ]
    },
    {
      "cell_type": "code",
      "execution_count": 55,
      "metadata": {
        "jupyter": {
          "outputs_hidden": false,
          "source_hidden": false
        },
        "nteract": {
          "transient": {
            "deleting": false
          }
        }
      },
      "outputs": [
        {
          "name": "stdout",
          "output_type": "stream",
          "text": [
            "Estimado David,\n",
            "\n",
            "Es John, ¡espero que te encuentres bien! Quería comentarte sobre la locura que está siendo los Juegos Olímpicos.\n",
            "\n",
            "La competencia está alcanzando niveles increíbles y no puedo evitar emocionarme por todo lo que está sucediendo. Los atletas están demostrando un rendimiento excepcional y los récords están siendo batidos constantemente. Es realmente impresionante presenciar todo esto.\n",
            "\n",
            "Me preguntaba si has tenido la oportunidad de ver alguna de las competencias. Creo que sería interesante discutir sobre las posibles oportunidades de negocio que podrían surgir a raíz de este evento. Los Juegos Olímpicos son una plataforma global que atrae a una gran audiencia y podría ser una excelente oportunidad para promocionar nuestra empresa.\n",
            "\n",
            "Si estás interesado, me encantaría reunirnos y discutir más a fondo sobre cómo podríamos aprovechar esta ocasión. Creo que podríamos explorar diferentes estrategias de marketing y patrocinio que nos permitan aumentar nuestra visibilidad y expandir nuestro alcance.\n",
            "\n",
            "Por favor, házmelo saber si estás disponible para una reunión en los próximos días. Estoy emocionado por la posibilidad de trabajar juntos en esta emocionante oportunidad.\n",
            "\n",
            "Saludos cordiales\n"
          ]
        }
      ],
      "source": [
        "# Escribe código aquí para la tarea .\n",
        "\n",
        "messages =  f\"\"\"\n",
        "Reescribe el texto como si fuera una carta de negocios: <{original_message}>\n",
        "\"\"\"\n",
        "response = get_chat_completion(messages)\n",
        "print(response)"
      ]
    },
    {
      "cell_type": "markdown",
      "metadata": {
        "nteract": {
          "transient": {
            "deleting": false
          }
        }
      },
      "source": [
        "#### Tarea para Estudiantes:\n",
        "Conversión de Formato\n",
        "\n",
        "ChatGPT puede traducir entre formatos. El prompt debe describir los formatos de entrada y salida. Convierte los siguientes datos JSON al formato HTML."
      ]
    },
    {
      "cell_type": "code",
      "execution_count": 56,
      "metadata": {
        "gather": {
          "logged": 1685083768996
        },
        "jupyter": {
          "outputs_hidden": false,
          "source_hidden": false
        },
        "nteract": {
          "transient": {
            "deleting": false
          }
        }
      },
      "outputs": [],
      "source": [
        "data_json = { \"The 2020 Summer Olympics Opening Ceremony audience name list\" :[ \n",
        "    {\"name\":\"Shyam\", \"email\":\"shyamjaiswal@gmail.com\"},\n",
        "    {\"name\":\"Bob\", \"email\":\"bob32@gmail.com\"},\n",
        "    {\"name\":\"Jai\", \"email\":\"jai87@gmail.com\"}\n",
        "]}"
      ]
    },
    {
      "cell_type": "code",
      "execution_count": 57,
      "metadata": {
        "jupyter": {
          "outputs_hidden": false,
          "source_hidden": false
        },
        "nteract": {
          "transient": {
            "deleting": false
          }
        }
      },
      "outputs": [
        {
          "name": "stdout",
          "output_type": "stream",
          "text": [
            "JSON:\n",
            "{\n",
            "  \"The 2020 Summer Olympics Opening Ceremony audience name list\": [\n",
            "    {\n",
            "      \"name\": \"Shyam\",\n",
            "      \"email\": \"shyamjaiswal@gmail.com\"\n",
            "    },\n",
            "    {\n",
            "      \"name\": \"Bob\",\n",
            "      \"email\": \"bob32@gmail.com\"\n",
            "    },\n",
            "    {\n",
            "      \"name\": \"Jai\",\n",
            "      \"email\": \"jai87@gmail.com\"\n",
            "    }\n",
            "  ]\n",
            "}\n",
            "\n",
            "HTML:\n",
            "&lt;{\n",
            "  \"The 2020 Summer Olympics Opening Ceremony audience name list\": [\n",
            "    {\n",
            "      \"name\": \"Shyam\",\n",
            "      \"email\": \"shyamjaiswal@gmail.com\"\n",
            "    },\n",
            "    {\n",
            "      \"name\": \"Bob\",\n",
            "      \"email\": \"bob32@gmail.com\"\n",
            "    },\n",
            "    {\n",
            "      \"name\": \"Jai\",\n",
            "      \"email\": \"jai87@gmail.com\"\n",
            "    }\n",
            "  ]\n",
            "}&gt;\n"
          ]
        }
      ],
      "source": [
        "# Escribe código aquí para la tarea .\n",
        "\n",
        "messages =  f\"\"\"\n",
        "Convierte el texto en formato JSON y HTML: <{data_json}>\n",
        "\"\"\"\n",
        "response = get_chat_completion(messages)\n",
        "print(response)"
      ]
    },
    {
      "cell_type": "markdown",
      "metadata": {
        "nteract": {
          "transient": {
            "deleting": false
          }
        }
      },
      "source": [
        "#### Tarea para Estudiantes:\n",
        "Revisión ortográfica y gramatical del siguiente texto.\n",
        "\n",
        "Para indicarle al modelo LLM que deseas que revise tu texto, instruye al modelo para que 'revise' o 'revise y corrija'."
      ]
    },
    {
      "cell_type": "code",
      "execution_count": 58,
      "metadata": {
        "gather": {
          "logged": 1685084954682
        },
        "jupyter": {
          "outputs_hidden": false,
          "source_hidden": false
        },
        "nteract": {
          "transient": {
            "deleting": false
          }
        }
      },
      "outputs": [],
      "source": [
        "check_text = [ \n",
        "  \"Alongside the main Emblem blue, the five other colors use in the branding of the 2020 Games is : Kurenai red,   Ai blue,   Sakula pink,   Fuji purple, and   Matsuba green.\",\n",
        "  \"The competition have three round: heats, semifinals, and a final.\"\n",
        "]"
      ]
    },
    {
      "cell_type": "code",
      "execution_count": 59,
      "metadata": {
        "jupyter": {
          "outputs_hidden": false,
          "source_hidden": false
        },
        "nteract": {
          "transient": {
            "deleting": false
          }
        }
      },
      "outputs": [
        {
          "name": "stdout",
          "output_type": "stream",
          "text": [
            "Junto al principal color Emblem blue, los otros cinco colores utilizados en la marca de los Juegos de 2020 son: Kurenai red, Ai blue, Sakula pink, Fuji purple y Matsuba green.\n",
            "The competition has three rounds: heats, semifinals, and a final.\n"
          ]
        }
      ],
      "source": [
        "# Escribe código aquí para la tarea .\n",
        "\n",
        "for i in check_text:\n",
        "    messages =  f\"\"\"\n",
        "    Revisa y corrige el siguiente texto: <{i}>\n",
        "    \"\"\"\n",
        "    response = get_chat_completion(messages)\n",
        "    print(response)"
      ]
    },
    {
      "cell_type": "markdown",
      "metadata": {
        "nteract": {
          "transient": {
            "deleting": false
          }
        }
      },
      "source": [
        "#### Táctica 5: Ampliación: personaliza la respuesta automática"
      ]
    },
    {
      "cell_type": "markdown",
      "metadata": {
        "nteract": {
          "transient": {
            "deleting": false
          }
        }
      },
      "source": [
        "#### Tarea para Estudiantes:\n",
        "Personaliza la respuesta automática al siguiente correo electrónico de un cliente.\n",
        "\n",
        "El cliente tuvo un problema al comprar un boleto para los Juegos Olímpicos."
      ]
    },
    {
      "cell_type": "code",
      "execution_count": 61,
      "metadata": {
        "gather": {
          "logged": 1685463156048
        },
        "jupyter": {
          "outputs_hidden": false,
          "source_hidden": false
        },
        "nteract": {
          "transient": {
            "deleting": false
          }
        }
      },
      "outputs": [],
      "source": [
        "# given the sentiment from the tactic on \"inferring\",\n",
        "# and the original customer message, customize the email\n",
        "sentiment = \"negative\"\n",
        "\n",
        "# review for a ticket transaction\n",
        "review = f\"\"\"\n",
        "I bought the ticket of \"Men's 100 metre freestyle swimming\" game last week.\\\n",
        "The transaction went through successfully. However, I still have not received the ticket.\\\n",
        "Over one week has passed.\\\n",
        "\"\"\""
      ]
    },
    {
      "cell_type": "code",
      "execution_count": 62,
      "metadata": {
        "jupyter": {
          "outputs_hidden": false,
          "source_hidden": false
        },
        "nteract": {
          "transient": {
            "deleting": false
          }
        }
      },
      "outputs": [
        {
          "name": "stdout",
          "output_type": "stream",
          "text": [
            "Estimado cliente,\n",
            "\n",
            "Gracias por ponerse en contacto con nosotros. Lamentamos sinceramente la demora en la entrega de su boleto para el evento de natación de 100 metros estilo libre masculino.\n",
            "\n",
            "Hemos investigado el problema y hemos identificado un retraso en el proceso de envío. Queremos asegurarle que estamos tomando medidas inmediatas para resolver esta situación y garantizar que reciba su boleto lo antes posible.\n",
            "\n",
            "Nos disculpamos por cualquier inconveniente que esto pueda haber causado y le aseguramos que estamos trabajando diligentemente para rectificar la situación. Le proporcionaremos una actualización sobre el estado de su envío en las próximas 24 horas.\n",
            "\n",
            "Agradecemos su paciencia y comprensión en este asunto. Si tiene alguna otra pregunta o inquietud, no dude en comunicarse con nosotros. Estamos aquí para ayudarle y asegurarnos de que tenga una experiencia satisfactoria con nuestros servicios.\n",
            "\n",
            "Atentamente,\n",
            "\n",
            "[Nombre del representante de servicio al cliente]\n"
          ]
        }
      ],
      "source": [
        "# Escribe código aquí para la tarea .\n",
        "\n",
        "messages =  f\"\"\"\n",
        "Responde el siguiente correo que tiene una connotacion {sentiment} para que el cliente este complacido: <{review}>\n",
        "\"\"\"\n",
        "response = get_chat_completion(messages)\n",
        "print(response)"
      ]
    },
    {
      "cell_type": "markdown",
      "metadata": {
        "nteract": {
          "transient": {
            "deleting": false
          }
        }
      },
      "source": [
        "### Táctica 6: Chatbot: personalizar conversaciones para tareas o comportamientos específicos"
      ]
    },
    {
      "cell_type": "markdown",
      "metadata": {
        "nteract": {
          "transient": {
            "deleting": false
          }
        }
      },
      "source": [
        "#### Tarea del Estudiante:\n",
        "Crear una conversación con el chatbot para saber dónde se celebraron los Juegos Olímpicos de Verano de 2020."
      ]
    },
    {
      "cell_type": "code",
      "execution_count": 66,
      "metadata": {
        "jupyter": {
          "outputs_hidden": false,
          "source_hidden": false
        },
        "nteract": {
          "transient": {
            "deleting": false
          }
        }
      },
      "outputs": [
        {
          "name": "stdout",
          "output_type": "stream",
          "text": [
            "Como soy un chatbot, no tengo la capacidad de ver ni opinar sobre eventos en tiempo real. Sin embargo, puedo decirte que los Juegos Olímpicos de Verano del 2020, que se llevaron a cabo en Tokio, Japón, fueron históricos debido a la pandemia de COVID-19. A pesar de los desafíos y restricciones, los atletas demostraron su dedicación y talento en diversas disciplinas deportivas. Los Juegos Olímpicos siempre son una celebración del espíritu deportivo y la competencia internacional, y estoy seguro de que estos juegos no fueron la excepción.\n"
          ]
        }
      ],
      "source": [
        "# Escribe código aquí para la tarea .\n",
        "\n",
        "messages =  [  \n",
        "    {'role':'system', 'content':'Eres un chatbot que va a conversar sobre los juegos Olimpicos descrito aca: <{game_review}>'},    \n",
        "    {'role':'user', 'content':'Que tal te parecieron los juegos olimpicos de verano del 2020?'}\n",
        "]\n",
        "response = get_completion_from_messages(messages, temperature=0.3)\n",
        "print(response)"
      ]
    },
    {
      "cell_type": "markdown",
      "metadata": {
        "nteract": {
          "transient": {
            "deleting": false
          }
        }
      },
      "source": [
        "### 2.2 Dar tiempo al modelo para “pensar”"
      ]
    },
    {
      "cell_type": "markdown",
      "metadata": {
        "nteract": {
          "transient": {
            "deleting": false
          }
        }
      },
      "source": [
        "### Táctica 1: Especificar los pasos necesarios para completar una tarea\n",
        "A veces puedes ayudar al modelo a \"ralentizarse\" y ofrecer respuestas más robustas y detalladas especificando los pasos que debe seguir.\n",
        "\n",
        "Pidamos la salida en varios formatos especificados."
      ]
    },
    {
      "cell_type": "code",
      "execution_count": 67,
      "metadata": {
        "gather": {
          "logged": 1685051679218
        },
        "jupyter": {
          "outputs_hidden": false,
          "source_hidden": false
        },
        "nteract": {
          "transient": {
            "deleting": false
          }
        }
      },
      "outputs": [
        {
          "data": {
            "text/plain": [
              "\"<div>\\n  <h1>Title: Highlights from the 2020 Summer Olympics in Tokyo</h1>\\n</div>\\n\\n<h2>Keywords:</h2>\\n<ul>\\n  <li>2020 Summer Olympics</li>\\n  <li>Tokyo 2020</li>\\n  <li>COVID-19 pandemic</li>\\n  <li>Medal count</li>\\n  <li>New events</li>\\n</ul>\\n\\n<table>\\n  <tr>\\n    <th>Article Publishing Information</th>\\n    <th>Keywords</th>\\n  </tr>\\n  <tr>\\n    <td>The 2020 Summer Olympics</td>\\n    <td>2020 Summer Olympics, Tokyo 2020, COVID-19 pandemic</td>\\n  </tr>\\n  <tr>\\n    <td>Postponement and branding</td>\\n    <td>Tokyo 2020, COVID-19 pandemic</td>\\n  </tr>\\n  <tr>\\n    <td>No spectators</td>\\n    <td>Tokyo 2020, COVID-19 pandemic</td>\\n  </tr>\\n  <tr>\\n    <td>Most expensive Games</td>\\n    <td>Tokyo 2020, spending</td>\\n  </tr>\\n  <tr>\\n    <td>Japan's Olympic history</td>\\n    <td>Japan, Olympic Games</td>\\n  </tr>\\n  <tr>\\n    <td>New events\""
            ]
          },
          "execution_count": 67,
          "metadata": {},
          "output_type": "execute_result"
        }
      ],
      "source": [
        "prompt = f\"\"\"\n",
        "Your task is to help a journalist summarize information from the article for publication.\n",
        "\n",
        "Write a title based on the information provided in the context delimited by triple backticks. \n",
        "The title should be short, catchy, and reflective of the article's narrative.\n",
        "\n",
        "After the title, generate five keywords from the context.\n",
        "\n",
        "After the keywords, include a table to organize the information. \n",
        "The table should have two columns. In the first column is the title.\n",
        "In the second column include the keywords as a list.\n",
        "\n",
        "Give the table the title 'Article Publishing Information'.\n",
        "\n",
        "Format everything as HTML that can be used in a website.\n",
        "Place the title in a <div> element.\n",
        "\n",
        "Context: ```{text}\n",
        "\n",
        "\"\"\" \n",
        "\n",
        "get_chat_completion(prompt)"
      ]
    },
    {
      "cell_type": "markdown",
      "metadata": {
        "nteract": {
          "transient": {
            "deleting": false
          }
        }
      },
      "source": [
        "### Táctica 2: Instruir al modelo para que desarrolle su propia solución\n",
        "\n",
        "Existen dos métodos principales que demostraremos en esta sección para lograr que el modelo resuelva un problema en lugar de apresurarse a una conclusión: cadena de pensamiento (chain-of-thought) y encadenamiento (chaining). Estas estrategias pueden llevar a una mayor precisión, detalle y la capacidad de resolver desafíos complejos.\n",
        "\n",
        "2.1 - Prompting de cadena de pensamiento\n",
        "- Pedir al modelo que razone\n",
        "- Ejemplo de un solo disparo (one-shot)\n",
        "- Razonamiento del chatbot\n",
        "\n",
        "2.2 - Encadenamiento\n",
        "\n",
        "Continuemos trabajando con el conjunto de datos de los Juegos Olímpicos."
      ]
    },
    {
      "cell_type": "markdown",
      "metadata": {
        "nteract": {
          "transient": {
            "deleting": false
          }
        }
      },
      "source": [
        "#### 2.2.1 Prompting de Cadena de Pensamiento\n",
        "\n",
        "Hagamos un poco de matemáticas. Los modelos de GPT ocasionalmente no resuelven muy bien problemas matemáticos directos, así que guiemos al modelo a través del problema.\n",
        "\n",
        "Descomponemos las tareas en piezas más pequeñas.\n",
        "\n",
        "Lee más sobre los métodos y la investigación en el libro blanco aquí: [https://github.com/openai/openai-cookbook/blob/main/techniques_to_improve_reliability.md](https://github.com/openai/openai-cookbook/blob/main/techniques_to_improve_reliability.md)."
      ]
    },
    {
      "cell_type": "markdown",
      "metadata": {
        "nteract": {
          "transient": {
            "deleting": false
          }
        }
      },
      "source": [
        "### Táctica 1: Puedes comenzar pidiéndole específicamente al modelo que piense paso a paso."
      ]
    },
    {
      "cell_type": "code",
      "execution_count": 68,
      "metadata": {
        "gather": {
          "logged": 1685051978623
        },
        "jupyter": {
          "outputs_hidden": false,
          "source_hidden": false
        },
        "nteract": {
          "transient": {
            "deleting": false
          }
        }
      },
      "outputs": [
        {
          "data": {
            "text/plain": [
              "\"To determine the most decorated individual athlete in the Olympic Games held in Sydney, we need to consider the number of medals won by each athlete. Let's follow a step-by-step approach to find the answer:\\n\\nStep 1: Identify the Olympic Games held in Sydney.\\nThe Olympic Games held in Sydney took place in the year 2000.\\n\\nStep 2: Look for the athlete who won the maximum number of medals in those games.\\nTo find the most decorated individual athlete, we need to consider the total number of medals won by each athlete in the Sydney Olympics.\\n\\nStep 3: Check the official Olympic records or reliable sources.\\nWe can refer to the official website of the International Olympic Committee (IOC) or other reputable sources to find the information about the most decorated individual athlete in the Sydney Olympics.\\n\\nAccording to the official Olympic website (olympic.org), the most decorated individual athlete in the Sydney Olympics was Michael Phelps from the United States. He won a total of 6 medals, including 3 gold, 2 silver, and 1 bronze.\\n\\nTherefore, the final answer is:\\n\\nANSWER is: Michael Phelps\""
            ]
          },
          "execution_count": 68,
          "metadata": {},
          "output_type": "execute_result"
        }
      ],
      "source": [
        "text = f\"\"\"\n",
        "    The 2020 Summer Olympics, officially the Games of the XXXII Olympiad and also known as Tokyo 2020, was an international multi-sport event held from 23 July to 8 August 2021 in Tokyo, Japan, with some preliminary events that began on 21 July 2021. Tokyo was selected as the host city during the 125th IOC Session in Buenos Aires, Argentina, on 7 September 2013.Originally scheduled to take place from 24 July to 9 August 2020, the event was postponed to 2021 on 24 March 2020 due to the global COVID-19 pandemic, the first such instance in the history of the Olympic Games (previous games had been cancelled but not rescheduled). However, the event retained the Tokyo 2020 branding for marketing purposes. It was largely held behind closed doors with no public spectators permitted due to the declaration of a state of emergency in the Greater Tokyo Area in response to the pandemic, the first and only Olympic Games to be held without official spectators. The Games were the most expensive ever, with total spending of over $20 billion.The Games were the fourth Olympic Games to be held in Japan, following the 1964 Summer Olympics (Tokyo), 1972 Winter Olympics (Sapporo), and 1998 Winter Olympics (Nagano). Tokyo became the first city in Asia to hold the Summer Olympic Games twice. The 2020 Games were the second of three consecutive Olympics to be held in East Asia, following the 2018 Winter Olympics in Pyeongchang, South Korea and preceding the 2022 Winter Olympics in Beijing, China. Due to the one-year postponement, Tokyo 2020 was the first and only Olympic Games to have been held in an odd-numbered year and the first Summer Olympics since 1900 to be held in a non-leap year.\\nNew events were introduced in existing sports, including 3x3 basketball, freestyle BMX and mixed gender team events in a number of existing sports, as well as the return of madison cycling for men and an introduction of the same event for women. New IOC policies also allowed the host organizing committee to add new sports to the Olympic program for just one Games. The disciplines added by the Japanese Olympic Committee were baseball and softball, karate, sport climbing, surfing and skateboarding, the last four of which made their Olympic debuts, and the last three of which will remain on the Olympic program.The United States topped the medal count by both total golds (39) and total medals (113), with China finishing second by both respects (38 and 89). Host nation Japan finished third, setting a record for the most gold medals and total medals ever won by their delegation at an Olympic Games with 27 and 58. Great Britain finished fourth, with a total of 22 gold and 64 medals. The Russian delegation competing as the ROC finished fifth with 20 gold medals and third in the overall medal count, with 71 medals. Bermuda, the Philippines and Qatar won their first-ever Olympic gold medals. Burkina Faso, San Marino and Turkmenistan also won their first-ever Olympic medals.'\n",
        "\"\"\"\n",
        "\n",
        "# From Azure documentation\n",
        "prompt = \"Who was the most decorated (maximum medals) individual athlete in the Olympic games that were held at Sydney? Take a step-by-step approach in your response, cite sources and give reasoning before sharing final answer in the below format: ANSWER is: <name>\"\n",
        "get_chat_completion(prompt)"
      ]
    },
    {
      "cell_type": "code",
      "execution_count": 69,
      "metadata": {
        "jupyter": {
          "outputs_hidden": false,
          "source_hidden": false
        },
        "nteract": {
          "transient": {
            "deleting": false
          }
        }
      },
      "outputs": [
        {
          "data": {
            "text/plain": [
              "\"To find the largest time zone difference between the top two countries who won the most gold medals in the 2020 Tokyo Olympics, we need to identify the top two countries and determine their time zones.\\n\\nAccording to the context, the United States topped the medal count with 39 gold medals, and China finished second with 38 gold medals. Let's find out the time zones of these two countries.\\n\\nThe United States has multiple time zones, but for simplicity, we can consider the Eastern Time Zone (ET) as it is the most populous. The Eastern Time Zone is UTC-5:00.\\n\\nChina has a single time zone, which is China Standard Time (CST). China Standard Time is UTC+8:00.\\n\\nTo calculate the time zone difference, we need to find the absolute value of the difference between the two time zones.\\n\\nThe time zone difference between Eastern Time Zone (UTC-5:00) and China Standard Time (UTC+8:00) can be calculated as follows:\\n\\nAbsolute value of (-5 - 8) = 13 hours\\n\\nTherefore, the largest time zone difference between the top two countries who won the most gold medals in the 2020 Tokyo Olympics is 13 hours.\""
            ]
          },
          "execution_count": 69,
          "metadata": {},
          "output_type": "execute_result"
        }
      ],
      "source": [
        "# Another example\n",
        "prompt = f\"\"\"\n",
        "What is the largest time zone difference is between the top two countries who \n",
        "won the most gold medals in the 2020 Tokyo olympics?\n",
        "\n",
        "Use the context below and think aloud as you solve the problem, step-by-step.\n",
        "\n",
        "Context: {text}\n",
        "\"\"\"\n",
        "get_chat_completion(prompt)"
      ]
    },
    {
      "cell_type": "markdown",
      "metadata": {
        "nteract": {
          "transient": {
            "deleting": false
          }
        }
      },
      "source": [
        "### Táctica 2: Ejemplo de un solo disparo\n",
        "Otra táctica común es proporcionar un ejemplo de una consulta y una respuesta ideal. El modelo aprenderá de ese ejemplo y aplicará los patrones a una nueva pregunta."
      ]
    },
    {
      "cell_type": "code",
      "execution_count": 70,
      "metadata": {
        "gather": {
          "logged": 1685053144682
        },
        "jupyter": {
          "outputs_hidden": false,
          "source_hidden": false
        },
        "nteract": {
          "transient": {
            "deleting": false
          }
        }
      },
      "outputs": [
        {
          "data": {
            "text/plain": [
              "'To find out how many more silver and bronze medals the United States has over Great Britain, we need to subtract the number of gold medals and total medals of Great Britain from the corresponding values of the United States.\\n\\nThe United States has 113 total medals - 39 gold medals = 74 silver and bronze medals.\\nGreat Britain has 64 total medals - 22 gold medals = 42 silver and bronze medals.\\n\\nTherefore, the United States has 74 - 42 = <<74-42=32>>32 more silver and bronze medals than Great Britain. Answer: \\\\boxed{32}.'"
            ]
          },
          "execution_count": 70,
          "metadata": {},
          "output_type": "execute_result"
        }
      ],
      "source": [
        "# Nota cómo esta respuesta puede no ser ideal o la más precisa.\n",
        "prompt = f\"\"\"\n",
        "    The United States has 113 total medals, 39 of which are gold medals. \n",
        "    \n",
        "    Great Britain has 64 medals and 22 gold medals. \n",
        "    \n",
        "    How many more silver and bronze medals does the United States have over Great Britain?\n",
        "\"\"\"\n",
        "\n",
        "get_chat_completion(prompt)"
      ]
    },
    {
      "cell_type": "code",
      "execution_count": 71,
      "metadata": {
        "jupyter": {
          "outputs_hidden": false,
          "source_hidden": false
        },
        "nteract": {
          "transient": {
            "deleting": false
          }
        }
      },
      "outputs": [
        {
          "data": {
            "text/plain": [
              "'[Step 1] - There are three types of medals: gold, silver, and bronze\\n[Step 2] - We know the gold and total counts of medals, so the number of silver and bronze medals is the difference between the gold (38) and total (89) counts. \\n            89-38=51, so China has 51 silver and bronze medals combined.'"
            ]
          },
          "execution_count": 71,
          "metadata": {},
          "output_type": "execute_result"
        }
      ],
      "source": [
        "# Give the model a one-shot example to solve the question more thoroughly\n",
        "\n",
        "prompt = f\"\"\"\n",
        "Question: The United States has 113 total medals, 39 of which are gold medals. How many medals are silver or bronze?\n",
        "Answer:\n",
        "[Step 1] - There are three types of medals: gold, silver, and bronze\n",
        "[Step 2] - We know the gold and total counts of medals, so the number of silver and bronze medals is the difference between the gold (39) and total (113) counts. \n",
        "            113-39=74, so there are 74 silver and bronze medals combined. The answer is 74.\n",
        "\n",
        "===\n",
        "\n",
        "Answer the following question using similar steps above.\n",
        "\n",
        "Question: China has 89 total medals, 38 of which are gold medals. How many silver and bronze medals do they have?\n",
        "Answer:\n",
        "\"\"\"\n",
        "\n",
        "get_chat_completion(prompt)"
      ]
    },
    {
      "cell_type": "markdown",
      "metadata": {
        "nteract": {
          "transient": {
            "deleting": false
          }
        }
      },
      "source": [
        "### Táctica 3: Razonamiento de cadena de pensamiento del chatbot\n",
        "Puedes incorporar lógica utilizando variables para que el chatbot pueda demostrar de manera dinámica formas específicas de pensar sobre un problema.\n",
        "\n",
        "**El lugar de entrada está en la parte superior de la pantalla. Deberías ver una ventana emergente. Escribe 'quit' si quieres salir.**"
      ]
    },
    {
      "cell_type": "code",
      "execution_count": 72,
      "metadata": {
        "jupyter": {
          "outputs_hidden": false,
          "source_hidden": false
        },
        "nteract": {
          "transient": {
            "deleting": false
          }
        }
      },
      "outputs": [
        {
          "name": "stdout",
          "output_type": "stream",
          "text": [
            "1\n",
            "\n",
            "Hello! I am the decision bot. I am here to help you make a decision. \n",
            "\n",
            "Should I buy a new car or continue using my old one?\n",
            "\n",
            "\n",
            "¡Claro! Estoy aquí para ayudarte a tomar una decisión. \n",
            "\n",
            "¿Cuál es la distancia entre tu casa y el restaurante A?\n",
            "\n",
            "4\n",
            "\n",
            "[Problem/Scenario/Question]: ¿Cuál es la distancia entre tu casa y el restaurante A?\n",
            "\n",
            "Chain of thought:\n",
            "[Step 1]: Identify the key element/variable in the problem/scenario/question.\n",
            "The key element/variable in this scenario is the distance between the house and restaurant A.\n",
            "\n",
            "[Answer/Conclusion/Recommendation]: I cannot provide a coherent and logical response without knowing the distance between your house and restaurant A. Please provide the distance so that I can continue assisting you in making a decision.\n",
            "\n",
            "6\n"
          ]
        }
      ],
      "source": [
        "# Pídele al bot que te ayude a tomar una decisión, como decidir si aceptar un trabajo o elegir entre restaurantes.\n",
        "# Si el modelo no responde inmediatamente a tu consulta, espera 1-5 segundos y vuelve a escribirla.\n",
        "# Si no te permite dar una entrada, reinicia el kernel en la barra de navegación.\n",
        "# Escribe \"quit\" para finalizar la sesión.\n",
        "\n",
        "context = '''\n",
        "        You are a decision bot. Your job is to help come to decision by asking a series of questions one at a time and coming to a reasonable decision based on the information provided.\n",
        "\n",
        "        You will use the following format to help create the series of questions.\n",
        "\n",
        "        Template: \n",
        "        [Problem/Scenario/Question]: [Provide a brief description of the problem, scenario, or question.]\n",
        "\n",
        "        Chain of thought:\n",
        "\n",
        "        [Step 1]: Identify the [key element/variable] in the [problem/scenario/question].\n",
        "        [Step 2]: Understand the [relationship/connection] between [element A] and [element B].\n",
        "        [Step 3]: [Analyze/Evaluate/Consider] the [context/implication] of the [relationship/connection] between [element A] and [element B].\n",
        "        [Step 4]: [Conclude/Decide/Determine] the [outcome/solution] based on the [analysis/evaluation/consideration] of [element A], [element B], and their [relationship/connection].\n",
        "        [Answer/Conclusion/Recommendation]: [Provide a coherent and logical response based on the chain of thought.]\n",
        "\n",
        "        You will guide the user though a series of questions one at a time. The first question is broad, and they subsequent questions become more specific. \n",
        "\n",
        "        Begin by introducing yourself and asking the first question (step 1) only and nothing else, in simple and easy way.\n",
        "        '''\n",
        "\n",
        "conversation=[{\"role\": \"system\", \"content\": context}]\n",
        "\n",
        "while(True):\n",
        "    print(len(conversation))\n",
        "    if len(conversation) == 1:\n",
        "        response = get_completion_from_messages(conversation)\n",
        "        conversation.append({\"role\": \"assistant\", \"content\": response})\n",
        "        print(\"\\n\" + response + \"\\n\")\n",
        "    \n",
        "    user_input = input('Enter your response: ')\n",
        "    if user_input.lower() == \"quit\":\n",
        "        break \n",
        "    conversation.append({\"role\": \"user\", \"content\": user_input})\n",
        "    \n",
        "    response = get_completion_from_messages(conversation)\n",
        "    conversation.append({\"role\": \"assistant\", \"content\": response})\n",
        "    print(\"\\n\" + response + \"\\n\")\n"
      ]
    },
    {
      "cell_type": "markdown",
      "metadata": {
        "nteract": {
          "transient": {
            "deleting": false
          }
        }
      },
      "source": [
        "#### 2.2.2 - Encadenamiento / Chaining\n",
        "Similar a algunos ejemplos anteriores, puedes usar las salidas del modelo de consultas anteriores en otras consultas. Más adelante en el Hack te mostraremos cómo hacer esto a escala."
      ]
    },
    {
      "cell_type": "code",
      "execution_count": 73,
      "metadata": {
        "gather": {
          "logged": 1685051679330
        },
        "jupyter": {
          "outputs_hidden": false,
          "source_hidden": false
        },
        "nteract": {
          "transient": {
            "deleting": false
          }
        }
      },
      "outputs": [
        {
          "name": "stdout",
          "output_type": "stream",
          "text": [
            "The recently concluded Olympics in Tokyo showcased the incredible talent and determination of athletes from around the world. As always, the medal count played a significant role in determining the winners and losers of the games. Let's take a closer look at the countries that emerged as the winners and those that fell short.\n",
            "\n",
            "At the top of the medal count leaderboard, we have the United States, with an impressive total of 113 medals, including 39 golds. The United States has consistently been a dominant force in the Olympics, and this year was no exception. Their athletes showcased their prowess across various sports, cementing their position as one of the most successful nations in Olympic history.\n",
            "\n",
            "China closely followed the United States, securing 89 medals, including 38 golds. China's athletes displayed exceptional skill and determination, particularly in sports like diving, gymnastics, and weightlifting. Their strong performance in these events contributed significantly to their overall success in the games.\n",
            "\n",
            "Japan, as the host nation, had a remarkable showing, finishing third in the medal count with 58 medals, including 27 golds. The Japanese athletes' performances were met with immense support and enthusiasm from the home crowd, which undoubtedly played a role in their success. Their achievements in sports such as judo, wrestling, and skateboarding were particularly noteworthy.\n",
            "\n",
            "Great Britain, with 64 medals, including 22 golds, secured the fourth position in the medal count. The British athletes showcased their talent across a wide range of sports, including cycling\n",
            "and athletics. Their success in events like rowing, sailing, and equestrian further contributed to their strong performance in the games.\n",
            "\n",
            "Australia, with 46 medals, including 17 golds, rounded out the top five in the medal count. The Australian athletes excelled in swimming, with several world records broken and multiple gold medals won. Their success in sports like track and field, cycling, and rowing also contributed to their overall medal tally.\n",
            "\n",
            "While these countries emerged as the top performers in terms of medal count, it is important to acknowledge the incredible talent and determination displayed by athletes from all nations. The Olympics showcased the diversity and global reach of sports, with athletes from over 200 countries participating and leaving their mark on the games.\n",
            "\n",
            "Overall, the Tokyo Olympics provided a platform for athletes to showcase their skills and push the boundaries of human achievement. The medal count serves as a measure of success, but the true spirit of the Olympics lies in the dedication, perseverance, and sportsmanship displayed by athletes from around the world.\n"
          ]
        }
      ],
      "source": [
        "# Extract medal counts for each country from the news article\n",
        "# Write an article about the summarized information\n",
        "# Provide a title for the summary\n",
        "\n",
        "text = f\"\"\"\n",
        "    The 2020 Summer Olympics, officially the Games of the XXXII Olympiad and also known as Tokyo 2020, was an international multi-sport event held from 23 July to 8 August 2021 in Tokyo, Japan, with some preliminary events that began on 21 July 2021. Tokyo was selected as the host city during the 125th IOC Session in Buenos Aires, Argentina, on 7 September 2013.Originally scheduled to take place from 24 July to 9 August 2020, the event was postponed to 2021 on 24 March 2020 due to the global COVID-19 pandemic, the first such instance in the history of the Olympic Games (previous games had been cancelled but not rescheduled). However, the event retained the Tokyo 2020 branding for marketing purposes. It was largely held behind closed doors with no public spectators permitted due to the declaration of a state of emergency in the Greater Tokyo Area in response to the pandemic, the first and only Olympic Games to be held without official spectators. The Games were the most expensive ever, with total spending of over $20 billion.The Games were the fourth Olympic Games to be held in Japan, following the 1964 Summer Olympics (Tokyo), 1972 Winter Olympics (Sapporo), and 1998 Winter Olympics (Nagano). Tokyo became the first city in Asia to hold the Summer Olympic Games twice. The 2020 Games were the second of three consecutive Olympics to be held in East Asia, following the 2018 Winter Olympics in Pyeongchang, South Korea and preceding the 2022 Winter Olympics in Beijing, China. Due to the one-year postponement, Tokyo 2020 was the first and only Olympic Games to have been held in an odd-numbered year and the first Summer Olympics since 1900 to be held in a non-leap year.\\nNew events were introduced in existing sports, including 3x3 basketball, freestyle BMX and mixed gender team events in a number of existing sports, as well as the return of madison cycling for men and an introduction of the same event for women. New IOC policies also allowed the host organizing committee to add new sports to the Olympic program for just one Games. The disciplines added by the Japanese Olympic Committee were baseball and softball, karate, sport climbing, surfing and skateboarding, the last four of which made their Olympic debuts, and the last three of which will remain on the Olympic program.The United States topped the medal count by both total golds (39) and total medals (113), with China finishing second by both respects (38 and 89). Host nation Japan finished third, setting a record for the most gold medals and total medals ever won by their delegation at an Olympic Games with 27 and 58. Great Britain finished fourth, with a total of 22 gold and 64 medals. The Russian delegation competing as the ROC finished fifth with 20 gold medals and third in the overall medal count, with 71 medals. Bermuda, the Philippines and Qatar won their first-ever Olympic gold medals. Burkina Faso, San Marino and Turkmenistan also won their first-ever Olympic medals.'\n",
        "\"\"\"\n",
        "\n",
        "prompt = f\"\"\"\n",
        "    Based on the context below, write a JSON object that contains the number of gold and total medals for each country.\n",
        "    Context: {text}\n",
        "\"\"\"\n",
        "num_medals_dict = get_chat_completion(prompt)\n",
        "\n",
        "prompt = f\"\"\"\n",
        "    Write a brief article about the winners and losers of the Olympics based on medal count:\n",
        "    {num_medals_dict}\n",
        "\"\"\"\n",
        "summary = get_chat_completion(prompt)\n",
        "print(summary)\n",
        "\n",
        "prompt = f\"\"\"\n",
        "    Give the summary a title in 5 words:\n",
        "    {summary}\n",
        "\"\"\"\n",
        "title = get_chat_completion(prompt)\n",
        "print(title)"
      ]
    },
    {
      "cell_type": "markdown",
      "metadata": {
        "nteract": {
          "transient": {
            "deleting": false
          }
        }
      },
      "source": [
        "#### Tarea del Estudiante (Encadenamiento / Chaining):\n",
        "\n",
        "Tu trabajo ahora es escribir código que determine el país que ganó la mayor cantidad de medallas de plata y bronce combinadas.\n",
        "\n",
        "Podemos ver que el modelo tiene un rendimiento deficiente al responder la pregunta directamente."
      ]
    },
    {
      "cell_type": "code",
      "execution_count": 75,
      "metadata": {
        "gather": {
          "logged": 1685053948700
        },
        "jupyter": {
          "outputs_hidden": false,
          "source_hidden": false
        },
        "nteract": {
          "transient": {
            "deleting": false
          }
        }
      },
      "outputs": [
        {
          "data": {
            "text/plain": [
              "'Based on the context, the country with the most silver and bronze medals is China. China finished second in both total golds (38) and total medals (89).'"
            ]
          },
          "execution_count": 75,
          "metadata": {},
          "output_type": "execute_result"
        }
      ],
      "source": [
        "prompt = f\"\"\"\n",
        "    Based on the context, which country had the most silver and bronze medals?\n",
        "    Context: {text}\n",
        "\"\"\"\n",
        "\n",
        "get_chat_completion(prompt)"
      ]
    },
    {
      "cell_type": "markdown",
      "metadata": {
        "nteract": {
          "transient": {
            "deleting": false
          }
        }
      },
      "source": [
        "Escribe indicaciones en la celda a continuación que ayudarán al modelo a responder la pregunta desglosando las tareas en diferentes pasos.\n",
        "\n",
        "Deberías poder lograr que el modelo responda la pregunta en 2-3 pasos."
      ]
    },
    {
      "cell_type": "code",
      "execution_count": 76,
      "metadata": {
        "jupyter": {
          "outputs_hidden": false,
          "source_hidden": false
        },
        "nteract": {
          "transient": {
            "deleting": false
          }
        }
      },
      "outputs": [
        {
          "data": {
            "text/plain": [
              "'El país que tuvo más medallas de plata (silver) fue Estados Unidos, con un total de 41 medallas de plata.'"
            ]
          },
          "execution_count": 76,
          "metadata": {},
          "output_type": "execute_result"
        }
      ],
      "source": [
        "# Escribe código aquí para la tarea .\n",
        "\n",
        "prompt = f\"\"\"\n",
        "    Based on the context, which country had the most silver and bronze medals?\n",
        "    Context: {text}\n",
        "\n",
        "    Paso1: determina cuantas medallas de plata (silver) tuvo cada pais y escribelo en formato JSON\n",
        "\n",
        "\"\"\"\n",
        "\n",
        "silvers = get_chat_completion(prompt)\n",
        "\n",
        "prompt2 = f\"\"\"\n",
        "    De acuerdo al siguiente JSON, que pais tuvo mas medallas de plata (silver): {silvers}\n",
        "\n",
        "\"\"\"\n",
        "\n",
        "get_chat_completion(prompt2)"
      ]
    },
    {
      "cell_type": "markdown",
      "metadata": {},
      "source": [
        "## Conclusión\n",
        "\n",
        "En este primer desafío, cubrimos cómo interactuar con Azure OpenAI para diferentes objetivos. Esperamos que hayas podido ver la versatilidad dinámica de los modelos y cómo pueden usarse para resolver una variedad de problemas utilizando diferentes técnicas.\n",
        "\n",
        "Le dimos a la API piezas cortas de texto usando variables fijas. En el próximo conjunto de desafíos, verás cómo usar la API con conjuntos de datos más grandes."
      ]
    }
  ],
  "metadata": {
    "kernel_info": {
      "name": "python38-azureml"
    },
    "kernelspec": {
      "display_name": "Python 3 (ipykernel)",
      "language": "python",
      "name": "python3"
    },
    "language_info": {
      "codemirror_mode": {
        "name": "ipython",
        "version": 3
      },
      "file_extension": ".py",
      "mimetype": "text/x-python",
      "name": "python",
      "nbconvert_exporter": "python",
      "pygments_lexer": "ipython3",
      "version": "3.10.13"
    },
    "microsoft": {
      "host": {
        "AzureML": {
          "notebookHasBeenCompleted": true
        }
      },
      "ms_spell_check": {
        "ms_spell_check_language": "en"
      }
    },
    "nteract": {
      "version": "nteract-front-end@1.0.0"
    }
  },
  "nbformat": 4,
  "nbformat_minor": 2
}
